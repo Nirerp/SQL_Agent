{
 "cells": [
  {
   "cell_type": "markdown",
   "metadata": {},
   "source": [
    "<center>\n",
    "    <h1><u>MySQL Agent</u></h1>\n",
    "</center>\n"
   ]
  },
  {
   "cell_type": "markdown",
   "metadata": {},
   "source": [
    "For this project we will use the employees.sql sample database. which can be downloaded from here: https://github.com/datacharmer/test_db\n",
    "\n",
    "Also, I use a LOCAL model, hence, completely free to use.\n",
    "In this example I use Ollama with a local model. You could use vLLM, LM Studio, or any other LLM GUI service.\n",
    "\n",
    "In this project, we will use the following:\n",
    "1. Engine - establishing the connection between Python and the MySQL database.\n",
    "2. Toolkit - providing tools for the Agent to interact with the database.\n",
    "3. Agent - reasoning and decision-making."
   ]
  },
  {
   "cell_type": "markdown",
   "metadata": {},
   "source": [
    "---\n"
   ]
  },
  {
   "cell_type": "markdown",
   "metadata": {},
   "source": [
    "<h2>Instructions</h2>\n",
    "\n",
    "1. Install mysql server on your machine (depends on OS) : https://dev.mysql.com/doc/mysql-installation-excerpt/5.7/en/\n",
    "\n",
    "2. Open terminal and run the following commands:\n",
    "\n",
    "   a. `git clone https://github.com/datacharmer/test_db`\n",
    "\n",
    "   b. `cd test_db`\n",
    "\n",
    "   c. `mysql -u root -p < employees.sql`\n",
    "\n",
    "* Note: I used a docker container to run the mysql server, but you can use the local server as well using the steps above.\n"
   ]
  },
  {
   "cell_type": "markdown",
   "metadata": {},
   "source": [
    "---\n"
   ]
  },
  {
   "cell_type": "markdown",
   "metadata": {},
   "source": [
    "<center> \n",
    "    <h2>Imports</h2>\n",
    "</center>\n"
   ]
  },
  {
   "cell_type": "code",
   "execution_count": 1,
   "metadata": {},
   "outputs": [
    {
     "data": {
      "text/plain": [
       "True"
      ]
     },
     "execution_count": 1,
     "metadata": {},
     "output_type": "execute_result"
    }
   ],
   "source": [
    "# LLM Imports\n",
    "from langchain_ollama import OllamaLLM\n",
    "from langchain_community.agent_toolkits import create_sql_agent\n",
    "\n",
    "# Custom Prompt Imports\n",
    "from langchain.agents.agent_types import AgentType\n",
    "from langchain.prompts import PromptTemplate\n",
    "\n",
    "# MySQL Imports\n",
    "from langchain_community.utilities.sql_database import SQLDatabase\n",
    "from langchain_community.agent_toolkits import SQLDatabaseToolkit\n",
    "from sqlalchemy import create_engine\n",
    "\n",
    "\n",
    "# Environment Variables\n",
    "from dotenv import load_dotenv\n",
    "import os\n",
    "\n",
    "# Other Imports\n",
    "import pandas as pd\n",
    "from IPython.display import display, Markdown\n",
    "\n",
    "load_dotenv()"
   ]
  },
  {
   "cell_type": "markdown",
   "metadata": {},
   "source": [
    "---\n"
   ]
  },
  {
   "cell_type": "markdown",
   "metadata": {},
   "source": [
    "<center> \n",
    "    <h2>Load Environment Variables</h2>\n",
    "</center>\n"
   ]
  },
  {
   "cell_type": "markdown",
   "metadata": {},
   "source": [
    "* Created a .env file in the root directory of the project\n",
    "* Added the following variables:\n",
    "```\n",
    "MYSQL_HOST=\n",
    "MYSQL_PORT=\n",
    "MYSQL_USER=\n",
    "MYSQL_PASSWORD=\n",
    "MYSQL_DB=\n",
    "MODEL=\n",
    "```\n",
    "\n",
    "* I used a NON-REASONING model, since my sql_agent does the reasoning for me.\n",
    "* The model I used is `llama3.2` (3B parameters version)\n",
    "* Therefore, not need to use a reasoning model like deepseek-ai/DeepSeek-R1."
   ]
  },
  {
   "cell_type": "code",
   "execution_count": 2,
   "metadata": {},
   "outputs": [],
   "source": [
    "MYSQL_HOST = os.getenv(\"MYSQL_HOST\")\n",
    "MYSQL_PORT = os.getenv(\"MYSQL_PORT\")\n",
    "MYSQL_USER = os.getenv(\"MYSQL_USER\")\n",
    "MYSQL_PASSWORD = os.getenv(\"MYSQL_PASSWORD\")\n",
    "MYSQL_DB = os.getenv(\"MYSQL_DB\")\n",
    "MODEL = os.getenv(\"MODEL\")"
   ]
  },
  {
   "cell_type": "code",
   "execution_count": 3,
   "metadata": {},
   "outputs": [
    {
     "data": {
      "text/plain": [
       "'llama3.2'"
      ]
     },
     "execution_count": 3,
     "metadata": {},
     "output_type": "execute_result"
    }
   ],
   "source": [
    "MODEL"
   ]
  },
  {
   "cell_type": "code",
   "execution_count": 4,
   "metadata": {},
   "outputs": [],
   "source": [
    "SQL_URI = f\"mysql+pymysql://{MYSQL_USER}:{MYSQL_PASSWORD}@{MYSQL_HOST}:{MYSQL_PORT}/{MYSQL_DB}\""
   ]
  },
  {
   "cell_type": "markdown",
   "metadata": {},
   "source": [
    "---\n"
   ]
  },
  {
   "cell_type": "markdown",
   "metadata": {},
   "source": [
    "<center> \n",
    "    <h2>Build the SQL Database</h2>\n",
    "</center>\n"
   ]
  },
  {
   "cell_type": "markdown",
   "metadata": {},
   "source": [
    "## 1. Engine\n",
    "* In this context, an engine refers to a database engine used to establish a connection between Python and the database.\n",
    "* The function create_engine(SQL_URI) comes from SQLAlchemy, which is a Python library used for interacting with relational databases.\n",
    "* The engine handles connections, transactions, and query execution."
   ]
  },
  {
   "cell_type": "code",
   "execution_count": 5,
   "metadata": {},
   "outputs": [],
   "source": [
    "# Create the SQLAlchemy engine first\n",
    "engine = create_engine(SQL_URI)"
   ]
  },
  {
   "cell_type": "code",
   "execution_count": 6,
   "metadata": {},
   "outputs": [],
   "source": [
    "# Connect to your MySQL database\n",
    "db = SQLDatabase(engine)"
   ]
  },
  {
   "cell_type": "code",
   "execution_count": 7,
   "metadata": {},
   "outputs": [
    {
     "data": {
      "text/plain": [
       "['departments', 'dept_emp', 'dept_manager', 'employees', 'salaries', 'titles']"
      ]
     },
     "execution_count": 7,
     "metadata": {},
     "output_type": "execute_result"
    }
   ],
   "source": [
    "# Test database connection\n",
    "db.get_usable_table_names()"
   ]
  },
  {
   "cell_type": "code",
   "execution_count": 8,
   "metadata": {},
   "outputs": [
    {
     "name": "stdout",
     "output_type": "stream",
     "text": [
      "\n",
      "Schema for table departments:\n"
     ]
    },
    {
     "data": {
      "text/html": [
       "<div>\n",
       "<style scoped>\n",
       "    .dataframe tbody tr th:only-of-type {\n",
       "        vertical-align: middle;\n",
       "    }\n",
       "\n",
       "    .dataframe tbody tr th {\n",
       "        vertical-align: top;\n",
       "    }\n",
       "\n",
       "    .dataframe thead th {\n",
       "        text-align: right;\n",
       "    }\n",
       "</style>\n",
       "<table border=\"1\" class=\"dataframe\">\n",
       "  <thead>\n",
       "    <tr style=\"text-align: right;\">\n",
       "      <th></th>\n",
       "      <th>Field</th>\n",
       "      <th>Type</th>\n",
       "      <th>Null</th>\n",
       "      <th>Key</th>\n",
       "      <th>Default</th>\n",
       "      <th>Extra</th>\n",
       "    </tr>\n",
       "  </thead>\n",
       "  <tbody>\n",
       "    <tr>\n",
       "      <th>0</th>\n",
       "      <td>dept_no</td>\n",
       "      <td>char(4)</td>\n",
       "      <td>NO</td>\n",
       "      <td>PRI</td>\n",
       "      <td>None</td>\n",
       "      <td></td>\n",
       "    </tr>\n",
       "    <tr>\n",
       "      <th>1</th>\n",
       "      <td>dept_name</td>\n",
       "      <td>varchar(40)</td>\n",
       "      <td>NO</td>\n",
       "      <td>UNI</td>\n",
       "      <td>None</td>\n",
       "      <td></td>\n",
       "    </tr>\n",
       "  </tbody>\n",
       "</table>\n",
       "</div>"
      ],
      "text/plain": [
       "       Field         Type Null  Key Default Extra\n",
       "0    dept_no      char(4)   NO  PRI    None      \n",
       "1  dept_name  varchar(40)   NO  UNI    None      "
      ]
     },
     "metadata": {},
     "output_type": "display_data"
    },
    {
     "name": "stdout",
     "output_type": "stream",
     "text": [
      "\n",
      "Sample Data for table departments:\n"
     ]
    },
    {
     "data": {
      "text/html": [
       "<div>\n",
       "<style scoped>\n",
       "    .dataframe tbody tr th:only-of-type {\n",
       "        vertical-align: middle;\n",
       "    }\n",
       "\n",
       "    .dataframe tbody tr th {\n",
       "        vertical-align: top;\n",
       "    }\n",
       "\n",
       "    .dataframe thead th {\n",
       "        text-align: right;\n",
       "    }\n",
       "</style>\n",
       "<table border=\"1\" class=\"dataframe\">\n",
       "  <thead>\n",
       "    <tr style=\"text-align: right;\">\n",
       "      <th></th>\n",
       "      <th>dept_no</th>\n",
       "      <th>dept_name</th>\n",
       "    </tr>\n",
       "  </thead>\n",
       "  <tbody>\n",
       "    <tr>\n",
       "      <th>0</th>\n",
       "      <td>d009</td>\n",
       "      <td>Customer Service</td>\n",
       "    </tr>\n",
       "    <tr>\n",
       "      <th>1</th>\n",
       "      <td>d005</td>\n",
       "      <td>Development</td>\n",
       "    </tr>\n",
       "    <tr>\n",
       "      <th>2</th>\n",
       "      <td>d002</td>\n",
       "      <td>Finance</td>\n",
       "    </tr>\n",
       "  </tbody>\n",
       "</table>\n",
       "</div>"
      ],
      "text/plain": [
       "  dept_no         dept_name\n",
       "0    d009  Customer Service\n",
       "1    d005       Development\n",
       "2    d002           Finance"
      ]
     },
     "metadata": {},
     "output_type": "display_data"
    }
   ],
   "source": [
    "# Get the first table in human readable format\n",
    "tables = db.get_usable_table_names()\n",
    "for table in tables[:1]:\n",
    "    # Convert query results to pandas DataFrames\n",
    "    schema_df = pd.read_sql(f\"DESCRIBE {table}\", engine)\n",
    "    sample_df = pd.read_sql(f\"SELECT * FROM {table} LIMIT 3\", engine)\n",
    "\n",
    "    print(f\"\\nSchema for table {table}:\")\n",
    "    display(schema_df)\n",
    "    print(f\"\\nSample Data for table {table}:\")\n",
    "    display(sample_df)"
   ]
  },
  {
   "cell_type": "markdown",
   "metadata": {},
   "source": [
    "---\n"
   ]
  },
  {
   "cell_type": "markdown",
   "metadata": {},
   "source": [
    "<center> \n",
    "    <h2>Configure the LLM</h2>\n",
    "</center>\n"
   ]
  },
  {
   "cell_type": "markdown",
   "metadata": {},
   "source": [
    "### If you wish to use vLLM, follow these steps:\n",
    "\n",
    "1. inside the terminal run `vllm serve <model_name> --tensor-parallel-size 2 --max-model-len 32768 --enforce-eager`\n",
    "\n",
    "   for example: `vllm serve deepseek-ai/DeepSeek-R1 --tensor-parallel-size 2 --max-model-len 32768 --enforce-eager`\n",
    "\n",
    "##### <u>For CPU usage:</u>\n",
    "\n",
    "`vllm serve deepseek-ai/DeepSeek-R1 --tensor-parallel-size 1 --enforce-eager --device cpu --trust-remote-code`\n",
    "\n",
    "##### <u>for GPU usage:</u>\n",
    "\n",
    "`vllm serve deepseek-ai/DeepSeek-R1 --tensor-parallel-size 1 --enforce-eager --device cuda --trust-remote-code`\n"
   ]
  },
  {
   "cell_type": "markdown",
   "metadata": {},
   "source": [
    "---\n"
   ]
  },
  {
   "cell_type": "markdown",
   "metadata": {},
   "source": [
    "### Note: I will not use vLLM, instead I will use ollama with a local model.\n",
    "\n",
    "1. In order to use ollama, you need to install it first: https://ollama.ai/\n",
    "2. Then run the following command: `ollama run <model_name>` <br> for example: <br> `ollama run deepseek-ai/DeepSeek-R1`\n",
    "<br>\n",
    "or\n",
    "<br>\n",
    "`ollama run llama3.2`\n",
    "\n",
    "- You can find the list of models here: https://ollama.ai/models\n",
    "- Make sure you know your computer's capacity for LLM models (CPU, GPU, etc.)\n"
   ]
  },
  {
   "cell_type": "code",
   "execution_count": 9,
   "metadata": {},
   "outputs": [],
   "source": [
    "# Configure the LLM to use vLLM's OpenAI-compatible endpoint\n",
    "model = OllamaLLM(\n",
    "    base_url=\"http://localhost:11434\",\n",
    "    model=MODEL,\n",
    "    temperature=0.1,\n",
    "    top_k=10,\n",
    "    top_p=0.95,  # Add top_p for better sampling\n",
    "    repeat_penalty=1.1,  # repeat penalty helps to avoid repetitive outputs\n",
    ")"
   ]
  },
  {
   "cell_type": "markdown",
   "metadata": {},
   "source": [
    "## 2. Toolkit\n",
    "* A toolkit is a collection of helper functions or utilities that an Agent can use to accomplish specific tasks. such as running queries, retrieving results, etc. (the actual `run` function for example when the agent wants to run a query)\n",
    "* In the case of LangChain, the SQL toolkit provides tools that allow an AI agent to interact with a SQL database, run queries, and retrieve results.\n",
    "* The toolkit doesn't execute queries by itself—it provides structured ways for an Agent to interact with a database."
   ]
  },
  {
   "cell_type": "code",
   "execution_count": 10,
   "metadata": {},
   "outputs": [],
   "source": [
    "# Create the SQL toolkit\n",
    "toolkit = SQLDatabaseToolkit(db=db, llm=model)"
   ]
  },
  {
   "cell_type": "markdown",
   "metadata": {},
   "source": [
    "<center> \n",
    "    <h2>Create the SQL Agent</h2>\n",
    "</center>\n"
   ]
  },
  {
   "cell_type": "markdown",
   "metadata": {},
   "source": [
    "## 3. Agent\n",
    "* An Agent is responsible for **reasoning** and **decision-making**. It takes user input (natural language) and decides how to process it.\n",
    "* In this case, the Agent converts natural language into SQL queries using an LLM and executes them on the database.\n",
    "* It decides which tools to use, meaning it calls the SQL toolkit when needed."
   ]
  },
  {
   "cell_type": "code",
   "execution_count": 11,
   "metadata": {},
   "outputs": [],
   "source": [
    "# Create a custom prompt template for the agent\n",
    "custom_prompt = PromptTemplate(\n",
    "    input_variables=[\"input\"],\n",
    "    template=\"\"\"You are a SQL expert. Your task is to:\n",
    "1. Convert the user's question into a SQL query\n",
    "2. Execute that query using the provided tools\n",
    "3. Return the actual results in a simple sentence\n",
    "\n",
    "Important: When you see sample data in table schemas, ignore the number of rows shown - they are just examples.\n",
    "\n",
    "User Question: {input}\n",
    "\n",
    "Let's solve this step by step:\"\"\",\n",
    ")"
   ]
  },
  {
   "cell_type": "code",
   "execution_count": 12,
   "metadata": {},
   "outputs": [],
   "source": [
    "# Create the SQL agent\n",
    "agent_executor = create_sql_agent(\n",
    "    llm=model,\n",
    "    toolkit=toolkit,\n",
    "    verbose=True,\n",
    "    agent_type=AgentType.ZERO_SHOT_REACT_DESCRIPTION,  # Depending on the model, you can change the agent type\n",
    "    # For example, if you want to use an OpenAI model, you can use: AgentType.OPENAI_MULTI_FUNCTIONS\n",
    "    max_iterations=None,  # Depending on the length of the query, you can change the max iterations\n",
    "    early_stopping_method=\"force\",\n",
    "    return_intermediate_steps=False,\n",
    "    agent_executor_kwargs={\n",
    "        \"handle_parsing_errors\": True  # Make sure to use this syntax (dictionary) and not the simple handle_parsing_errors=True parameter\n",
    "    },\n",
    ")"
   ]
  },
  {
   "cell_type": "markdown",
   "metadata": {},
   "source": [
    "---\n"
   ]
  },
  {
   "cell_type": "markdown",
   "metadata": {},
   "source": [
    "<center> \n",
    "    <h2>Prompts</h2>\n",
    "</center>\n"
   ]
  },
  {
   "cell_type": "code",
   "execution_count": 13,
   "metadata": {},
   "outputs": [],
   "source": [
    "# Create a wrapper function for better responses, just optional, you could use response[\"output\"]\n",
    "def ask_database(question: str) -> str:\n",
    "    try:\n",
    "        response = agent_executor.invoke({\"input\": question})\n",
    "        # Extract just the final answer if it's in the response\n",
    "        if isinstance(response, dict) and \"output\" in response:\n",
    "            return response[\"output\"]\n",
    "        return str(response)\n",
    "    except Exception as e:\n",
    "        return f\"Error: {str(e)}\""
   ]
  },
  {
   "cell_type": "code",
   "execution_count": 14,
   "metadata": {},
   "outputs": [
    {
     "name": "stdout",
     "output_type": "stream",
     "text": [
      "\n",
      "\n",
      "\u001b[1m> Entering new SQL Agent Executor chain...\u001b[0m\n"
     ]
    },
    {
     "name": "stdout",
     "output_type": "stream",
     "text": [
      "\u001b[32;1m\u001b[1;3mAction: sql_db_list_tables\n",
      "Action Input: \u001b[0m\u001b[38;5;200m\u001b[1;3mdepartments, dept_emp, dept_manager, employees, salaries, titles\u001b[0m\u001b[32;1m\u001b[1;3mQuestion: How many employees are there in total?\n",
      "\n",
      "Thought: Since we need to find the total number of employees, I should query the 'employees' table.\n",
      "\n",
      "Action: sql_db_schema\n",
      "Action Input: employees\u001b[0m\u001b[33;1m\u001b[1;3m\n",
      "CREATE TABLE employees (\n",
      "\temp_no INTEGER NOT NULL, \n",
      "\tbirth_date DATE NOT NULL, \n",
      "\tfirst_name VARCHAR(14) NOT NULL, \n",
      "\tlast_name VARCHAR(16) NOT NULL, \n",
      "\tgender ENUM('M','F') NOT NULL, \n",
      "\thire_date DATE NOT NULL, \n",
      "\tPRIMARY KEY (emp_no)\n",
      ")DEFAULT CHARSET=utf8mb4 ENGINE=InnoDB COLLATE utf8mb4_0900_ai_ci\n",
      "\n",
      "/*\n",
      "3 rows from employees table:\n",
      "emp_no\tbirth_date\tfirst_name\tlast_name\tgender\thire_date\n",
      "10001\t1953-09-02\tGeorgi\tFacello\tM\t1986-06-26\n",
      "10002\t1964-06-02\tBezalel\tSimmel\tF\t1985-11-21\n",
      "10003\t1959-12-03\tParto\tBamford\tM\t1986-08-28\n",
      "*/\u001b[0m\u001b[32;1m\u001b[1;3mQuestion: How many employees are there in total?\n",
      "Thought: I should look at the tables in the database to see what I can query.  Then I should query the schema of the most relevant tables.\n",
      "Action: sql_db_list_tables\n",
      "Action Input: \u001b[0m\u001b[38;5;200m\u001b[1;3mdepartments, dept_emp, dept_manager, employees, salaries, titles\u001b[0m\u001b[32;1m\u001b[1;3mQuestion: How many employees are there in total?\n",
      "Thought: I should look at the tables in the database to see what I can query.  Then I should query the schema of the most relevant tables.\n",
      "Action: sql_db_list_tables\n",
      "Action Input: \u001b[0m\u001b[38;5;200m\u001b[1;3mdepartments, dept_emp, dept_manager, employees, salaries, titles\u001b[0m\u001b[32;1m\u001b[1;3mQuestion: How many employees are there in total?\n",
      "\n",
      "Thought: I should look at the tables in the database to see what I can query.  Then I should query the schema of the most relevant tables.\n",
      "\n",
      "Action: sql_db_list_tables\n",
      "Action Input: \u001b[0m\u001b[38;5;200m\u001b[1;3mdepartments, dept_emp, dept_manager, employees, salaries, titles\u001b[0m\u001b[32;1m\u001b[1;3mQuestion: How many employees are there in total?\n",
      "\n",
      "Thought: I should look at the tables in the database to see what I can query.  Then I should query the schema of the most relevant tables.\n",
      "\n",
      "Action: sql_db_list_tables\n",
      "Action Input: \u001b[0m\u001b[38;5;200m\u001b[1;3mdepartments, dept_emp, dept_manager, employees, salaries, titles\u001b[0m\u001b[32;1m\u001b[1;3mQuestion: How many employees are there in total?\n",
      "\n",
      "Thought: Since we need to find the total number of employees, I should query the 'employees' table.\n",
      "\n",
      "Action: sql_db_schema\n",
      "Action Input: employees\u001b[0m\u001b[33;1m\u001b[1;3m\n",
      "CREATE TABLE employees (\n",
      "\temp_no INTEGER NOT NULL, \n",
      "\tbirth_date DATE NOT NULL, \n",
      "\tfirst_name VARCHAR(14) NOT NULL, \n",
      "\tlast_name VARCHAR(16) NOT NULL, \n",
      "\tgender ENUM('M','F') NOT NULL, \n",
      "\thire_date DATE NOT NULL, \n",
      "\tPRIMARY KEY (emp_no)\n",
      ")DEFAULT CHARSET=utf8mb4 ENGINE=InnoDB COLLATE utf8mb4_0900_ai_ci\n",
      "\n",
      "/*\n",
      "3 rows from employees table:\n",
      "emp_no\tbirth_date\tfirst_name\tlast_name\tgender\thire_date\n",
      "10001\t1953-09-02\tGeorgi\tFacello\tM\t1986-06-26\n",
      "10002\t1964-06-02\tBezalel\tSimmel\tF\t1985-11-21\n",
      "10003\t1959-12-03\tParto\tBamford\tM\t1986-08-28\n",
      "*/\u001b[0m\u001b[32;1m\u001b[1;3mQuestion: How many employees are there in total?\n",
      "\n",
      "Thought: I should look at the tables in the database to see what I can query.  Then I should query the schema of the most relevant tables.\n",
      "\n",
      "Action: sql_db_list_tables\n",
      "Action Input: \u001b[0m\u001b[38;5;200m\u001b[1;3mdepartments, dept_emp, dept_manager, employees, salaries, titles\u001b[0m\u001b[32;1m\u001b[1;3mQuestion: How many employees are there in total?\n",
      "Thought: Since we need to find the total number of employees, I should query the 'employees' table.\n",
      "Action: sql_db_query\n",
      "Action Input: SELECT COUNT(*) FROM employees\u001b[0m\u001b[36;1m\u001b[1;3m[(300024,)]\u001b[0m\u001b[32;1m\u001b[1;3mFinal Answer: The total number of employees is 300024.\u001b[0m\n",
      "\n",
      "\u001b[1m> Finished chain.\u001b[0m\n"
     ]
    }
   ],
   "source": [
    "result = ask_database(\"How many employees are there in total?\")"
   ]
  },
  {
   "cell_type": "code",
   "execution_count": 15,
   "metadata": {},
   "outputs": [
    {
     "name": "stdout",
     "output_type": "stream",
     "text": [
      "The total number of employees is 300024.\n"
     ]
    }
   ],
   "source": [
    "print(result)"
   ]
  }
 ],
 "metadata": {
  "kernelspec": {
   "display_name": "venv",
   "language": "python",
   "name": "python3"
  },
  "language_info": {
   "codemirror_mode": {
    "name": "ipython",
    "version": 3
   },
   "file_extension": ".py",
   "mimetype": "text/x-python",
   "name": "python",
   "nbconvert_exporter": "python",
   "pygments_lexer": "ipython3",
   "version": "3.11.11"
  }
 },
 "nbformat": 4,
 "nbformat_minor": 2
}
